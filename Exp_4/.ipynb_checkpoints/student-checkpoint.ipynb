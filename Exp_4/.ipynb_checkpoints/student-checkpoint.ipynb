{
 "cells": [
  {
   "cell_type": "markdown",
   "metadata": {},
   "source": [
    "# 实验4 图像分类"
   ]
  },
  {
   "cell_type": "markdown",
   "metadata": {},
   "source": [
    "本节课使用 CIFAR-10 数据集，用 pytorch（或其他框架）搭建模型进行图像分类。\n",
    "\n",
    "CIFAR-10 数据集：http://www.cs.toronto.edu/~kriz/cifar.html\n",
    "\n",
    "在 pytorch 官方文档中给出了多层感知机的实现，可以参考这部分代码，有能力的同学可以将其修改为卷积神经网络以提升效果。\n",
    "\n",
    "pytorch 文档：https://pytorch.org/tutorials/beginner/basics/quickstart_tutorial.html\n",
    "\n",
    "如果需要，可以使用 Google 的免费服务器资源 https://www.kaggle.com/code"
   ]
  },
  {
   "cell_type": "code",
   "execution_count": null,
   "metadata": {},
   "outputs": [],
   "source": []
  }
 ],
 "metadata": {
  "kernelspec": {
   "display_name": "Python 3",
   "language": "python",
   "name": "python3"
  },
  "language_info": {
   "codemirror_mode": {
    "name": "ipython",
    "version": 3
   },
   "file_extension": ".py",
   "mimetype": "text/x-python",
   "name": "python",
   "nbconvert_exporter": "python",
   "pygments_lexer": "ipython3",
   "version": "3.7.10"
  }
 },
 "nbformat": 4,
 "nbformat_minor": 4
}
